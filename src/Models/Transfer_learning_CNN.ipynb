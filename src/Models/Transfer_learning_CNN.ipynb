{
 "cells": [
  {
   "cell_type": "markdown",
   "metadata": {},
   "source": [
    "preprocessing, libraries and data  "
   ]
  },
  {
   "cell_type": "code",
   "execution_count": null,
   "metadata": {},
   "outputs": [],
   "source": [
    "import tensorflow_datasets as tfds\n",
    "import tensorflow as tf\n",
    "\n",
    "def map_func(sample):\n",
    "    image = sample['image']\n",
    "    label = sample['label']\n",
    "    label = tf.one_hot(label, 2, dtype=tf.float32)\n",
    "    return image, label\n",
    "\n",
    "\n",
    "ds1, ds2, ds3 = tfds.load('patch_camelyon',\n",
    "                         split=['train[:20%]', 'test[:5%]', 'validation[:5%]'],\n",
    "                         data_dir=r'C:\\job_og_eksamensbevis\\Github\\projekter\\Projekt_1_Computer_Vision\\path_to_data_directory',\n",
    "                         download=False,\n",
    "                         shuffle_files=True)\n",
    "\n",
    "train_dataset_cnn       = ds1.map(map_func).batch(32)\n",
    "validation_dataset_cnn  = ds3.map(map_func).batch(32)\n",
    "test_dataset_cnn        = ds2.map(map_func).batch(32)"
   ]
  },
  {
   "cell_type": "markdown",
   "metadata": {},
   "source": [
    "Loading all the models to avoid error if network fails"
   ]
  },
  {
   "cell_type": "code",
   "execution_count": 1,
   "metadata": {},
   "outputs": [
    {
     "name": "stdout",
     "output_type": "stream",
     "text": [
      "WARNING:tensorflow:From c:\\Users\\bruno\\anaconda3\\envs\\ENV_NAME\\lib\\site-packages\\keras\\src\\losses.py:2976: The name tf.losses.sparse_softmax_cross_entropy is deprecated. Please use tf.compat.v1.losses.sparse_softmax_cross_entropy instead.\n",
      "\n",
      "WARNING:tensorflow:From c:\\Users\\bruno\\anaconda3\\envs\\ENV_NAME\\lib\\site-packages\\keras\\src\\backend.py:1398: The name tf.executing_eagerly_outside_functions is deprecated. Please use tf.compat.v1.executing_eagerly_outside_functions instead.\n",
      "\n",
      "WARNING:tensorflow:From c:\\Users\\bruno\\anaconda3\\envs\\ENV_NAME\\lib\\site-packages\\keras\\src\\layers\\pooling\\max_pooling2d.py:161: The name tf.nn.max_pool is deprecated. Please use tf.nn.max_pool2d instead.\n",
      "\n",
      "WARNING:tensorflow:`input_shape` is undefined or non-square, or `rows` is not in [96, 128, 160, 192, 224]. Weights for input shape (224, 224) will be loaded as the default.\n"
     ]
    },
    {
     "data": {
      "text/plain": [
       "<keras.src.engine.functional.Functional at 0x2a0c6169690>"
      ]
     },
     "execution_count": 1,
     "metadata": {},
     "output_type": "execute_result"
    }
   ],
   "source": [
    "from tensorflow.keras.applications import ResNet50V2, ResNet101, InceptionV3, DenseNet121, MobileNetV2, Xception, EfficientNetB0, EfficientNetB7\n",
    "\n",
    "# Pre-download weights for ResNet50V2\n",
    "ResNet50V2(weights='imagenet', include_top=False)\n",
    "\n",
    "# Pre-download weights for ResNet101\n",
    "ResNet101(weights='imagenet', include_top=False)\n",
    "\n",
    "# Pre-download weights for InceptionV3\n",
    "InceptionV3(weights='imagenet', include_top=False)\n",
    "\n",
    "# Pre-download weights for DenseNet121\n",
    "DenseNet121(weights='imagenet', include_top=False)\n",
    "\n",
    "# Pre-download weights for MobileNetV2\n",
    "MobileNetV2(weights='imagenet', include_top=False)\n",
    "\n",
    "# Pre-download weights for Xception\n",
    "Xception(weights='imagenet', include_top=False)\n",
    "\n",
    "# Pre-download weights for EfficientNetB0\n",
    "EfficientNetB0(weights='imagenet', include_top=False)\n",
    "\n",
    "# Pre-download weights for EfficientNetB7\n",
    "EfficientNetB7(weights='imagenet', include_top=False)"
   ]
  },
  {
   "cell_type": "markdown",
   "metadata": {},
   "source": [
    "base transfer"
   ]
  },
  {
   "cell_type": "code",
   "execution_count": null,
   "metadata": {},
   "outputs": [],
   "source": [
    "from tensorflow.keras.applications import EfficientNetB0,ResNet101,ResNet50V2\n",
    "from tensorflow.keras.layers import Conv2D, MaxPooling2D, Flatten, Dense, GlobalAveragePooling2D, Input\n",
    "from tensorflow.keras.models import Model\n",
    "\n",
    "def build_cnn_with_efficientnet(encoder_output_shape, num_classes):\n",
    "    # Create an input layer that matches the output shape of the encoder\n",
    "    cnn_input = Input(shape=encoder_output_shape)\n",
    "\n",
    "    # Load the pre-trained EfficientNetB0 model, without the top layer (the classification head)\n",
    "    base_model = EfficientNetB0(include_top=False, weights='imagenet', input_tensor=cnn_input)\n",
    "\n",
    "    # Freeze the layers of the base model\n",
    "    for layer in base_model.layers:\n",
    "        layer.trainable = False\n",
    "\n",
    "    # Add new layers on top of the base model\n",
    "    x = base_model.output\n",
    "    x = GlobalAveragePooling2D()(x)  # Add a global average pooling layer\n",
    "    \n",
    "    # Additional custom layers\n",
    "    x = Dense(128, activation='relu')(x)\n",
    "    \n",
    "    # Output layer\n",
    "    predictions = Dense(num_classes, activation='softmax')(x)\n",
    "\n",
    "    # Create the final model\n",
    "    model = Model(inputs=cnn_input, outputs=predictions)\n",
    "\n",
    "    return model\n"
   ]
  },
  {
   "cell_type": "markdown",
   "metadata": {},
   "source": [
    "Compiling and classifying"
   ]
  },
  {
   "cell_type": "code",
   "execution_count": null,
   "metadata": {},
   "outputs": [],
   "source": [
    "# Example usage\n",
    "input_shape = (96, 96, 3) \n",
    "num_classes = 2  \n",
    "\n",
    "cnn_model = build_cnn_with_efficientnet(input_shape, num_classes)\n",
    "\n",
    "cnn_model.compile(optimizer='adam',  \n",
    "                  loss='categorical_crossentropy',  \n",
    "                  metrics=['accuracy'])  \n",
    "\n",
    "# Now you can train your model\n",
    "history = cnn_model.fit(\n",
    "    train_dataset_cnn,\n",
    "    validation_data=validation_dataset_cnn,\n",
    "    epochs=10,\n",
    "    batch_size=32,\n",
    "    callbacks=[EarlyStopping(monitor='val_loss', patience=3)]\n",
    ")\n",
    "\n",
    "# And evaluate it\n",
    "loss, accuracy = cnn_model.evaluate(test_dataset_cnn, verbose=1)\n"
   ]
  },
  {
   "cell_type": "markdown",
   "metadata": {},
   "source": [
    "Visualizing"
   ]
  },
  {
   "cell_type": "code",
   "execution_count": null,
   "metadata": {},
   "outputs": [],
   "source": [
    "# Access the training history\n",
    "train_loss = history.history['loss']\n",
    "val_loss = history.history['val_loss']\n",
    "train_accuracy = history.history['accuracy']\n",
    "val_accuracy = history.history['val_accuracy']\n",
    "\n",
    "import matplotlib.pyplot as plt\n",
    "\n",
    "# Plot for loss\n",
    "plt.figure(figsize=(12, 5))\n",
    "\n",
    "plt.subplot(1, 2, 1)\n",
    "plt.plot(train_loss, label='Training Loss')\n",
    "plt.plot(val_loss, label='Validation Loss')\n",
    "plt.xlabel('Epochs')\n",
    "plt.ylabel('Loss')\n",
    "plt.title('Training and Validation Loss')\n",
    "plt.legend()\n",
    "\n",
    "# Plot for accuracy\n",
    "plt.subplot(1, 2, 2)\n",
    "plt.plot(train_accuracy, label='Training Accuracy')\n",
    "plt.plot(val_accuracy, label='Validation Accuracy')\n",
    "plt.xlabel('Epochs')\n",
    "plt.ylabel('Accuracy')\n",
    "plt.title('Training and Validation Accuracy')\n",
    "plt.legend()\n",
    "\n",
    "plt.show()"
   ]
  },
  {
   "cell_type": "markdown",
   "metadata": {},
   "source": [
    "Adjusted CNN to loop the different models"
   ]
  },
  {
   "cell_type": "code",
   "execution_count": 2,
   "metadata": {},
   "outputs": [],
   "source": [
    "def build_cnn_with_base_model(base_model_func, input_shape, num_classes):\n",
    "    cnn_input = Input(shape=input_shape)\n",
    "    base_model = base_model_func(include_top=False, weights='imagenet', input_tensor=cnn_input)\n",
    "\n",
    "    for layer in base_model.layers:\n",
    "        layer.trainable = False\n",
    "\n",
    "    x = base_model.output\n",
    "    x = GlobalAveragePooling2D()(x)\n",
    "    x = Dense(128, activation='relu')(x)\n",
    "    predictions = Dense(num_classes, activation='softmax')(x)\n",
    "\n",
    "    model = Model(inputs=cnn_input, outputs=predictions)\n",
    "    return model\n"
   ]
  },
  {
   "cell_type": "markdown",
   "metadata": {},
   "source": [
    "Looping over the different models on  base model for transfer. "
   ]
  },
  {
   "cell_type": "code",
   "execution_count": 9,
   "metadata": {},
   "outputs": [
    {
     "name": "stdout",
     "output_type": "stream",
     "text": [
      "Training and evaluating with base model: ResNet50V2\n"
     ]
    },
    {
     "name": "stdout",
     "output_type": "stream",
     "text": [
      "Epoch 1/5\n",
      "WARNING:tensorflow:From c:\\Users\\bruno\\anaconda3\\envs\\ENV_NAME\\lib\\site-packages\\keras\\src\\utils\\tf_utils.py:492: The name tf.ragged.RaggedTensorValue is deprecated. Please use tf.compat.v1.ragged.RaggedTensorValue instead.\n",
      "\n"
     ]
    },
    {
     "name": "stderr",
     "output_type": "stream",
     "text": [
      "WARNING:tensorflow:From c:\\Users\\bruno\\anaconda3\\envs\\ENV_NAME\\lib\\site-packages\\keras\\src\\utils\\tf_utils.py:492: The name tf.ragged.RaggedTensorValue is deprecated. Please use tf.compat.v1.ragged.RaggedTensorValue instead.\n",
      "\n"
     ]
    },
    {
     "name": "stdout",
     "output_type": "stream",
     "text": [
      "WARNING:tensorflow:From c:\\Users\\bruno\\anaconda3\\envs\\ENV_NAME\\lib\\site-packages\\keras\\src\\engine\\base_layer_utils.py:384: The name tf.executing_eagerly_outside_functions is deprecated. Please use tf.compat.v1.executing_eagerly_outside_functions instead.\n",
      "\n"
     ]
    },
    {
     "name": "stderr",
     "output_type": "stream",
     "text": [
      "WARNING:tensorflow:From c:\\Users\\bruno\\anaconda3\\envs\\ENV_NAME\\lib\\site-packages\\keras\\src\\engine\\base_layer_utils.py:384: The name tf.executing_eagerly_outside_functions is deprecated. Please use tf.compat.v1.executing_eagerly_outside_functions instead.\n",
      "\n"
     ]
    },
    {
     "name": "stdout",
     "output_type": "stream",
     "text": [
      "1639/1639 [==============================] - 648s 386ms/step - loss: 3.6328 - accuracy: 0.7021 - val_loss: 1.0990 - val_accuracy: 0.6777\n",
      "Epoch 2/5\n",
      "1639/1639 [==============================] - 552s 337ms/step - loss: 0.8157 - accuracy: 0.7351 - val_loss: 0.4878 - val_accuracy: 0.7766\n",
      "Epoch 3/5\n",
      "1639/1639 [==============================] - 459s 280ms/step - loss: 0.5132 - accuracy: 0.7699 - val_loss: 0.4798 - val_accuracy: 0.7637\n",
      "Epoch 4/5\n",
      "1639/1639 [==============================] - 465s 283ms/step - loss: 0.4809 - accuracy: 0.7800 - val_loss: 0.4307 - val_accuracy: 0.8126\n",
      "Epoch 5/5\n",
      "1639/1639 [==============================] - 424s 258ms/step - loss: 0.4843 - accuracy: 0.7784 - val_loss: 0.4564 - val_accuracy: 0.7802\n",
      "52/52 [==============================] - 8s 161ms/step - loss: 0.5070 - accuracy: 0.7558\n",
      "Training and evaluating with base model: ResNet101\n",
      "Epoch 1/5\n",
      "1639/1639 [==============================] - 671s 406ms/step - loss: 0.3784 - accuracy: 0.8317 - val_loss: 0.3627 - val_accuracy: 0.8407\n",
      "Epoch 2/5\n",
      "1639/1639 [==============================] - 661s 403ms/step - loss: 0.3112 - accuracy: 0.8650 - val_loss: 0.3760 - val_accuracy: 0.8364\n",
      "Epoch 3/5\n",
      "1639/1639 [==============================] - 652s 398ms/step - loss: 0.2823 - accuracy: 0.8786 - val_loss: 0.3885 - val_accuracy: 0.8297\n",
      "Epoch 4/5\n",
      "1639/1639 [==============================] - 667s 407ms/step - loss: 0.2571 - accuracy: 0.8908 - val_loss: 0.3992 - val_accuracy: 0.8315\n",
      "52/52 [==============================] - 21s 406ms/step - loss: 0.5215 - accuracy: 0.7949\n",
      "Training and evaluating with base model: InceptionV3\n",
      "Epoch 1/5\n",
      "1639/1639 [==============================] - 138s 82ms/step - loss: 1.1067 - accuracy: 0.7232 - val_loss: 0.5291 - val_accuracy: 0.7418\n",
      "Epoch 2/5\n",
      "1639/1639 [==============================] - 135s 82ms/step - loss: 0.5187 - accuracy: 0.7497 - val_loss: 0.5075 - val_accuracy: 0.7619\n",
      "Epoch 3/5\n",
      "1639/1639 [==============================] - 133s 81ms/step - loss: 0.5163 - accuracy: 0.7515 - val_loss: 0.4987 - val_accuracy: 0.7650\n",
      "Epoch 4/5\n",
      "1639/1639 [==============================] - 137s 84ms/step - loss: 0.5128 - accuracy: 0.7524 - val_loss: 0.5073 - val_accuracy: 0.7619\n",
      "Epoch 5/5\n",
      "1639/1639 [==============================] - 134s 82ms/step - loss: 0.5112 - accuracy: 0.7518 - val_loss: 0.5446 - val_accuracy: 0.7442\n",
      "52/52 [==============================] - 4s 80ms/step - loss: 0.5547 - accuracy: 0.7344\n",
      "Training and evaluating with base model: DenseNet121\n",
      "Epoch 1/5\n",
      "1639/1639 [==============================] - 349s 210ms/step - loss: 0.5050 - accuracy: 0.8009 - val_loss: 0.5009 - val_accuracy: 0.7967\n",
      "Epoch 2/5\n",
      "1639/1639 [==============================] - 330s 201ms/step - loss: 0.3720 - accuracy: 0.8354 - val_loss: 0.4833 - val_accuracy: 0.7845\n",
      "Epoch 3/5\n",
      "1639/1639 [==============================] - 320s 195ms/step - loss: 0.3562 - accuracy: 0.8432 - val_loss: 0.4866 - val_accuracy: 0.7863\n",
      "Epoch 4/5\n",
      "1639/1639 [==============================] - 315s 192ms/step - loss: 0.3391 - accuracy: 0.8532 - val_loss: 0.5042 - val_accuracy: 0.7808\n",
      "Epoch 5/5\n",
      "1639/1639 [==============================] - 334s 204ms/step - loss: 0.3291 - accuracy: 0.8586 - val_loss: 0.5207 - val_accuracy: 0.7827\n",
      "52/52 [==============================] - 11s 205ms/step - loss: 0.5660 - accuracy: 0.7674\n",
      "Training and evaluating with base model: MobileNetV2\n",
      "WARNING:tensorflow:`input_shape` is undefined or non-square, or `rows` is not in [96, 128, 160, 192, 224]. Weights for input shape (224, 224) will be loaded as the default.\n"
     ]
    },
    {
     "name": "stderr",
     "output_type": "stream",
     "text": [
      "WARNING:tensorflow:`input_shape` is undefined or non-square, or `rows` is not in [96, 128, 160, 192, 224]. Weights for input shape (224, 224) will be loaded as the default.\n"
     ]
    },
    {
     "name": "stdout",
     "output_type": "stream",
     "text": [
      "Epoch 1/5\n",
      "1639/1639 [==============================] - 117s 70ms/step - loss: 0.5464 - accuracy: 0.7463 - val_loss: 0.5646 - val_accuracy: 0.7076\n",
      "Epoch 2/5\n",
      "1639/1639 [==============================] - 114s 70ms/step - loss: 0.4988 - accuracy: 0.7628 - val_loss: 0.4929 - val_accuracy: 0.7753\n",
      "Epoch 3/5\n",
      "1639/1639 [==============================] - 116s 71ms/step - loss: 0.4909 - accuracy: 0.7654 - val_loss: 0.4792 - val_accuracy: 0.7821\n",
      "Epoch 4/5\n",
      "1639/1639 [==============================] - 110s 67ms/step - loss: 0.4834 - accuracy: 0.7700 - val_loss: 0.4668 - val_accuracy: 0.7888\n",
      "Epoch 5/5\n",
      "1639/1639 [==============================] - 113s 69ms/step - loss: 0.4791 - accuracy: 0.7726 - val_loss: 0.4653 - val_accuracy: 0.7821\n",
      "52/52 [==============================] - 4s 67ms/step - loss: 0.5388 - accuracy: 0.7198\n",
      "Training and evaluating with base model: Xception\n",
      "Epoch 1/5\n",
      "1639/1639 [==============================] - 368s 223ms/step - loss: 0.6612 - accuracy: 0.7493 - val_loss: 0.4815 - val_accuracy: 0.7851\n",
      "Epoch 2/5\n",
      "1639/1639 [==============================] - 360s 219ms/step - loss: 0.4959 - accuracy: 0.7659 - val_loss: 0.4561 - val_accuracy: 0.7961\n",
      "Epoch 3/5\n",
      "1639/1639 [==============================] - 355s 217ms/step - loss: 0.4874 - accuracy: 0.7694 - val_loss: 0.4686 - val_accuracy: 0.7759\n",
      "Epoch 4/5\n",
      "1639/1639 [==============================] - 367s 224ms/step - loss: 0.4811 - accuracy: 0.7728 - val_loss: 0.4673 - val_accuracy: 0.7888\n",
      "Epoch 5/5\n",
      "1639/1639 [==============================] - 747s 456ms/step - loss: 0.4749 - accuracy: 0.7782 - val_loss: 0.4736 - val_accuracy: 0.7802\n",
      "52/52 [==============================] - 26s 497ms/step - loss: 0.5090 - accuracy: 0.7595\n",
      "Training and evaluating with base model: EfficientNetB0\n",
      "Epoch 1/5\n",
      "1639/1639 [==============================] - 549s 307ms/step - loss: 0.3653 - accuracy: 0.8368 - val_loss: 0.3853 - val_accuracy: 0.8211\n",
      "Epoch 2/5\n",
      "1639/1639 [==============================] - 432s 264ms/step - loss: 0.3125 - accuracy: 0.8648 - val_loss: 0.4024 - val_accuracy: 0.8089\n",
      "Epoch 3/5\n",
      "1639/1639 [==============================] - 302s 184ms/step - loss: 0.2872 - accuracy: 0.8757 - val_loss: 0.3865 - val_accuracy: 0.8199\n",
      "Epoch 4/5\n",
      "1639/1639 [==============================] - 314s 191ms/step - loss: 0.2671 - accuracy: 0.8870 - val_loss: 0.3931 - val_accuracy: 0.8181\n",
      "52/52 [==============================] - 12s 222ms/step - loss: 0.4429 - accuracy: 0.8083\n",
      "Training and evaluating with base model: EfficientNetB7\n",
      "Epoch 1/5\n",
      "1639/1639 [==============================] - 2121s 1s/step - loss: 0.4797 - accuracy: 0.7671 - val_loss: 0.4083 - val_accuracy: 0.7912\n",
      "Epoch 2/5\n",
      "1639/1639 [==============================] - 1985s 1s/step - loss: 0.4269 - accuracy: 0.8004 - val_loss: 0.3988 - val_accuracy: 0.8059\n",
      "Epoch 3/5\n",
      "1639/1639 [==============================] - 1362s 831ms/step - loss: 0.4114 - accuracy: 0.8100 - val_loss: 0.4405 - val_accuracy: 0.7888\n",
      "Epoch 4/5\n",
      "1639/1639 [==============================] - 1165s 711ms/step - loss: 0.4021 - accuracy: 0.8150 - val_loss: 0.4312 - val_accuracy: 0.7900\n",
      "Epoch 5/5\n",
      "1639/1639 [==============================] - 1156s 705ms/step - loss: 0.3969 - accuracy: 0.8168 - val_loss: 0.4369 - val_accuracy: 0.7827\n",
      "52/52 [==============================] - 34s 655ms/step - loss: 0.4832 - accuracy: 0.7631\n"
     ]
    },
    {
     "data": {
      "image/png": "[encoded data removed]",
      "text/plain": [
       "<Figure size 1200x600 with 1 Axes>"
      ]
     },
     "metadata": {},
     "output_type": "display_data"
    }
   ],
   "source": [
    "import matplotlib.pyplot as plt\n",
    "from tensorflow.keras.layers import Input, GlobalAveragePooling2D, Dense, Dropout, BatchNormalization, Conv2D, MaxPooling2D, Flatten, Reshape, UpSampling2D, Dropout, Conv2DTranspose\n",
    "from tensorflow.keras.models import Sequential, Model\n",
    "from tensorflow.keras.callbacks import EarlyStopping\n",
    "\n",
    "base_models = [ResNet50V2, ResNet101, InceptionV3, DenseNet121, MobileNetV2, Xception, EfficientNetB0, EfficientNetB7]\n",
    "base_model_names = ['ResNet50V2', 'ResNet101', 'InceptionV3', 'DenseNet121', 'MobileNetV2', 'Xception', 'EfficientNetB0', 'EfficientNetB7']\n",
    "results = []\n",
    "\n",
    "input_shape = (96, 96, 3)  # Define the input shape\n",
    "num_classes = 2  # Define the number of classes\n",
    "\n",
    "for base_model, name in zip(base_models, base_model_names):\n",
    "    print(f\"Training and evaluating with base model: {name}\")\n",
    "    cnn_model = build_cnn_with_base_model(base_model, input_shape, num_classes)\n",
    "\n",
    "    cnn_model.compile(optimizer='adam', loss='categorical_crossentropy', metrics=['accuracy'])\n",
    "    history = cnn_model.fit(train_dataset_cnn, validation_data=validation_dataset_cnn, epochs=5, batch_size=32, callbacks=[EarlyStopping(monitor='val_loss', patience=3)], verbose=1)\n",
    "    loss, accuracy = cnn_model.evaluate(test_dataset_cnn, verbose=1)\n",
    "    results.append((name, accuracy))\n",
    "\n",
    "# Plotting the results\n",
    "plt.figure(figsize=(12, 6))\n",
    "plt.bar([r[0] for r in results], [r[1] for r in results])\n",
    "plt.xlabel('Model')\n",
    "plt.ylabel('Test Accuracy')\n",
    "plt.title('Test Accuracy for Different Pre-Trained Models')\n",
    "plt.show()\n"
   ]
  }
 ],
 "metadata": {
  "kernelspec": {
   "display_name": "ENV_NAME",
   "language": "python",
   "name": "python3"
  },
  "language_info": {
   "codemirror_mode": {
    "name": "ipython",
    "version": 3
   },
   "file_extension": ".py",
   "mimetype": "text/x-python",
   "name": "python",
   "nbconvert_exporter": "python",
   "pygments_lexer": "ipython3",
   "version": "3.10.13"
  }
 },
 "nbformat": 4,
 "nbformat_minor": 2
}
