{
 "cells": [
  {
   "cell_type": "code",
   "execution_count": null,
   "metadata": {},
   "outputs": [
    {
     "ename": "AssertionError",
     "evalue": "Dataset patch_camelyon: could not find data in C:\\Users\\bruno\\OneDrive\\Skrivebord\\Data Sciece Kandidat\\3 semester\\Anvendt machine learning\\Eksamen\\patch_camelyon. Please make sure to call dataset_builder.download_and_prepare(), or pass download=True to tfds.load() before trying to access the tf.data.Dataset object.",
     "output_type": "error",
     "traceback": [
      "\u001b[1;31m---------------------------------------------------------------------------\u001b[0m",
      "\u001b[1;31mAssertionError\u001b[0m                            Traceback (most recent call last)",
      "Cell \u001b[1;32mIn[6], line 41\u001b[0m\n\u001b[0;32m     38\u001b[0m \u001b[38;5;28;01mimport\u001b[39;00m \u001b[38;5;21;01mtensorflow_datasets\u001b[39;00m \u001b[38;5;28;01mas\u001b[39;00m \u001b[38;5;21;01mtfds\u001b[39;00m\n\u001b[0;32m     40\u001b[0m \u001b[38;5;66;03m# Corrected file path with escaped backslashes and a missing comma\u001b[39;00m\n\u001b[1;32m---> 41\u001b[0m ds1, ds2, ds3 \u001b[38;5;241m=\u001b[39m \u001b[43mtfds\u001b[49m\u001b[38;5;241;43m.\u001b[39;49m\u001b[43mload\u001b[49m\u001b[43m(\u001b[49m\u001b[38;5;124;43m'\u001b[39;49m\u001b[38;5;124;43mpatch_camelyon\u001b[39;49m\u001b[38;5;124;43m'\u001b[39;49m\u001b[43m,\u001b[49m\n\u001b[0;32m     42\u001b[0m \u001b[43m                         \u001b[49m\u001b[43msplit\u001b[49m\u001b[38;5;241;43m=\u001b[39;49m\u001b[43m[\u001b[49m\u001b[38;5;124;43m'\u001b[39;49m\u001b[38;5;124;43mtrain[:10\u001b[39;49m\u001b[38;5;124;43m%\u001b[39;49m\u001b[38;5;124;43m]\u001b[39;49m\u001b[38;5;124;43m'\u001b[39;49m\u001b[43m,\u001b[49m\u001b[43m \u001b[49m\u001b[38;5;124;43m'\u001b[39;49m\u001b[38;5;124;43mtest[:2.5\u001b[39;49m\u001b[38;5;124;43m%\u001b[39;49m\u001b[38;5;124;43m]\u001b[39;49m\u001b[38;5;124;43m'\u001b[39;49m\u001b[43m,\u001b[49m\u001b[43m \u001b[49m\u001b[38;5;124;43m'\u001b[39;49m\u001b[38;5;124;43mvalidation[:2.5\u001b[39;49m\u001b[38;5;124;43m%\u001b[39;49m\u001b[38;5;124;43m]\u001b[39;49m\u001b[38;5;124;43m'\u001b[39;49m\u001b[43m]\u001b[49m\u001b[43m,\u001b[49m\n\u001b[0;32m     43\u001b[0m \u001b[43m                         \u001b[49m\u001b[43mdata_dir\u001b[49m\u001b[38;5;241;43m=\u001b[39;49m\u001b[38;5;124;43mr\u001b[39;49m\u001b[38;5;124;43m\"\u001b[39;49m\u001b[38;5;124;43mC:\u001b[39;49m\u001b[38;5;124;43m\\\u001b[39;49m\u001b[38;5;124;43mUsers\u001b[39;49m\u001b[38;5;124;43m\\\u001b[39;49m\u001b[38;5;124;43mbruno\u001b[39;49m\u001b[38;5;124;43m\\\u001b[39;49m\u001b[38;5;124;43mOneDrive\u001b[39;49m\u001b[38;5;124;43m\\\u001b[39;49m\u001b[38;5;124;43mSkrivebord\u001b[39;49m\u001b[38;5;124;43m\\\u001b[39;49m\u001b[38;5;124;43mData Sciece Kandidat\u001b[39;49m\u001b[38;5;124;43m\\\u001b[39;49m\u001b[38;5;124;43m3 semester\u001b[39;49m\u001b[38;5;124;43m\\\u001b[39;49m\u001b[38;5;124;43mAnvendt machine learning\u001b[39;49m\u001b[38;5;124;43m\\\u001b[39;49m\u001b[38;5;124;43mEksamen\u001b[39;49m\u001b[38;5;124;43m\\\u001b[39;49m\u001b[38;5;124;43mpatch_camelyon\u001b[39;49m\u001b[38;5;124;43m\"\u001b[39;49m\u001b[43m,\u001b[49m\n\u001b[0;32m     44\u001b[0m \u001b[43m                         \u001b[49m\u001b[43mdownload\u001b[49m\u001b[38;5;241;43m=\u001b[39;49m\u001b[38;5;28;43;01mFalse\u001b[39;49;00m\u001b[43m,\u001b[49m\n\u001b[0;32m     45\u001b[0m \u001b[43m                         \u001b[49m\u001b[43mshuffle_files\u001b[49m\u001b[38;5;241;43m=\u001b[39;49m\u001b[38;5;28;43;01mTrue\u001b[39;49;00m\u001b[43m)\u001b[49m\n\u001b[0;32m     47\u001b[0m train_dataset       \u001b[38;5;241m=\u001b[39m ds1\u001b[38;5;241m.\u001b[39mmap(convert_sample)\u001b[38;5;241m.\u001b[39mbatch(\u001b[38;5;241m32\u001b[39m)\n\u001b[0;32m     48\u001b[0m validation_dataset  \u001b[38;5;241m=\u001b[39m ds3\u001b[38;5;241m.\u001b[39mmap(convert_sample)\u001b[38;5;241m.\u001b[39mbatch(\u001b[38;5;241m32\u001b[39m)\n",
      "File \u001b[1;32mc:\\Users\\jeppe\\OneDrive\\Dokumenter\\Privat\\SDU\\DataScience\\anaconda_spyder\\envs\\ENV_NAME\\lib\\site-packages\\tensorflow_datasets\\core\\logging\\__init__.py:168\u001b[0m, in \u001b[0;36m_FunctionDecorator.__call__\u001b[1;34m(self, function, instance, args, kwargs)\u001b[0m\n\u001b[0;32m    166\u001b[0m metadata \u001b[38;5;241m=\u001b[39m \u001b[38;5;28mself\u001b[39m\u001b[38;5;241m.\u001b[39m_start_call()\n\u001b[0;32m    167\u001b[0m \u001b[38;5;28;01mtry\u001b[39;00m:\n\u001b[1;32m--> 168\u001b[0m   \u001b[38;5;28;01mreturn\u001b[39;00m function(\u001b[38;5;241m*\u001b[39margs, \u001b[38;5;241m*\u001b[39m\u001b[38;5;241m*\u001b[39mkwargs)\n\u001b[0;32m    169\u001b[0m \u001b[38;5;28;01mexcept\u001b[39;00m \u001b[38;5;167;01mException\u001b[39;00m:\n\u001b[0;32m    170\u001b[0m   metadata\u001b[38;5;241m.\u001b[39mmark_error()\n",
      "File \u001b[1;32mc:\\Users\\jeppe\\OneDrive\\Dokumenter\\Privat\\SDU\\DataScience\\anaconda_spyder\\envs\\ENV_NAME\\lib\\site-packages\\tensorflow_datasets\\core\\load.py:661\u001b[0m, in \u001b[0;36mload\u001b[1;34m(name, split, data_dir, batch_size, shuffle_files, download, as_supervised, decoders, read_config, with_info, builder_kwargs, download_and_prepare_kwargs, as_dataset_kwargs, try_gcs)\u001b[0m\n\u001b[0;32m    658\u001b[0m as_dataset_kwargs\u001b[38;5;241m.\u001b[39msetdefault(\u001b[38;5;124m'\u001b[39m\u001b[38;5;124mshuffle_files\u001b[39m\u001b[38;5;124m'\u001b[39m, shuffle_files)\n\u001b[0;32m    659\u001b[0m as_dataset_kwargs\u001b[38;5;241m.\u001b[39msetdefault(\u001b[38;5;124m'\u001b[39m\u001b[38;5;124mread_config\u001b[39m\u001b[38;5;124m'\u001b[39m, read_config)\n\u001b[1;32m--> 661\u001b[0m ds \u001b[38;5;241m=\u001b[39m dbuilder\u001b[38;5;241m.\u001b[39mas_dataset(\u001b[38;5;241m*\u001b[39m\u001b[38;5;241m*\u001b[39mas_dataset_kwargs)\n\u001b[0;32m    662\u001b[0m \u001b[38;5;28;01mif\u001b[39;00m with_info:\n\u001b[0;32m    663\u001b[0m   \u001b[38;5;28;01mreturn\u001b[39;00m ds, dbuilder\u001b[38;5;241m.\u001b[39minfo\n",
      "File \u001b[1;32mc:\\Users\\jeppe\\OneDrive\\Dokumenter\\Privat\\SDU\\DataScience\\anaconda_spyder\\envs\\ENV_NAME\\lib\\site-packages\\tensorflow_datasets\\core\\logging\\__init__.py:168\u001b[0m, in \u001b[0;36m_FunctionDecorator.__call__\u001b[1;34m(self, function, instance, args, kwargs)\u001b[0m\n\u001b[0;32m    166\u001b[0m metadata \u001b[38;5;241m=\u001b[39m \u001b[38;5;28mself\u001b[39m\u001b[38;5;241m.\u001b[39m_start_call()\n\u001b[0;32m    167\u001b[0m \u001b[38;5;28;01mtry\u001b[39;00m:\n\u001b[1;32m--> 168\u001b[0m   \u001b[38;5;28;01mreturn\u001b[39;00m function(\u001b[38;5;241m*\u001b[39margs, \u001b[38;5;241m*\u001b[39m\u001b[38;5;241m*\u001b[39mkwargs)\n\u001b[0;32m    169\u001b[0m \u001b[38;5;28;01mexcept\u001b[39;00m \u001b[38;5;167;01mException\u001b[39;00m:\n\u001b[0;32m    170\u001b[0m   metadata\u001b[38;5;241m.\u001b[39mmark_error()\n",
      "File \u001b[1;32mc:\\Users\\jeppe\\OneDrive\\Dokumenter\\Privat\\SDU\\DataScience\\anaconda_spyder\\envs\\ENV_NAME\\lib\\site-packages\\tensorflow_datasets\\core\\dataset_builder.py:864\u001b[0m, in \u001b[0;36mDatasetBuilder.as_dataset\u001b[1;34m(self, split, batch_size, shuffle_files, decoders, read_config, as_supervised)\u001b[0m\n\u001b[0;32m    862\u001b[0m \u001b[38;5;66;03m# pylint: enable=line-too-long\u001b[39;00m\n\u001b[0;32m    863\u001b[0m \u001b[38;5;28;01mif\u001b[39;00m \u001b[38;5;129;01mnot\u001b[39;00m \u001b[38;5;28mself\u001b[39m\u001b[38;5;241m.\u001b[39mdata_path\u001b[38;5;241m.\u001b[39mexists():\n\u001b[1;32m--> 864\u001b[0m   \u001b[38;5;28;01mraise\u001b[39;00m \u001b[38;5;167;01mAssertionError\u001b[39;00m(\n\u001b[0;32m    865\u001b[0m       \u001b[38;5;124m\"\u001b[39m\u001b[38;5;124mDataset \u001b[39m\u001b[38;5;132;01m%s\u001b[39;00m\u001b[38;5;124m: could not find data in \u001b[39m\u001b[38;5;132;01m%s\u001b[39;00m\u001b[38;5;124m. Please make sure to call \u001b[39m\u001b[38;5;124m\"\u001b[39m\n\u001b[0;32m    866\u001b[0m       \u001b[38;5;124m\"\u001b[39m\u001b[38;5;124mdataset_builder.download_and_prepare(), or pass download=True to \u001b[39m\u001b[38;5;124m\"\u001b[39m\n\u001b[0;32m    867\u001b[0m       \u001b[38;5;124m\"\u001b[39m\u001b[38;5;124mtfds.load() before trying to access the tf.data.Dataset object.\u001b[39m\u001b[38;5;124m\"\u001b[39m\n\u001b[0;32m    868\u001b[0m       \u001b[38;5;241m%\u001b[39m (\u001b[38;5;28mself\u001b[39m\u001b[38;5;241m.\u001b[39mname, \u001b[38;5;28mself\u001b[39m\u001b[38;5;241m.\u001b[39mdata_dir_root)\n\u001b[0;32m    869\u001b[0m   )\n\u001b[0;32m    871\u001b[0m \u001b[38;5;66;03m# By default, return all splits\u001b[39;00m\n\u001b[0;32m    872\u001b[0m \u001b[38;5;28;01mif\u001b[39;00m split \u001b[38;5;129;01mis\u001b[39;00m \u001b[38;5;28;01mNone\u001b[39;00m:\n",
      "\u001b[1;31mAssertionError\u001b[0m: Dataset patch_camelyon: could not find data in C:\\Users\\bruno\\OneDrive\\Skrivebord\\Data Sciece Kandidat\\3 semester\\Anvendt machine learning\\Eksamen\\patch_camelyon. Please make sure to call dataset_builder.download_and_prepare(), or pass download=True to tfds.load() before trying to access the tf.data.Dataset object."
     ]
    }
   ],
   "source": [
    "import tensorflow as tf\n",
    "from tensorflow.keras.layers import Input, Dense, Conv2D, Flatten, Dropout\n",
    "from tensorflow.keras.models import Model\n",
    "from tensorflow.keras.optimizers import SGD\n",
    "import tensorflow_datasets as tfds\n",
    "import tensorflow as tf\n",
    "from tensorflow.keras.layers import Input, Conv2D, MaxPooling2D, UpSampling2D, Dense, Flatten\n",
    "from tensorflow.keras.models import Model\n",
    "from tensorflow.keras.optimizers import Adam\n",
    "\n",
    "import matplotlib.pyplot as plt\n",
    "import numpy as np\n",
    "import pandas as pd\n",
    "import tensorflow as tf\n",
    " \n",
    "from sklearn.metrics import accuracy_score, precision_score, recall_score\n",
    "from sklearn.model_selection import train_test_split\n",
    "from keras import layers, losses\n",
    "from keras.models import Model\n",
    "from random import randint \n",
    "\n",
    "from keras import backend as K \n",
    "from keras.layers import Input, Dense, Conv2D, MaxPooling2D, UpSampling2D \n",
    "from keras.callbacks import TensorBoard \n",
    "from tensorflow.keras import layers, losses\n",
    "\n",
    "def convert_sample(sample):\n",
    "    image, label = sample['image'], sample['label']  \n",
    "    image = tf.image.convert_image_dtype(image, tf.float32)\n",
    "    return image, image  # Use the image itself as the target label\n",
    "\n",
    "def map_func(sample):\n",
    "    image = sample['image']\n",
    "    label = sample['label']\n",
    "    label = tf.one_hot(label, 2, dtype=tf.float32)\n",
    "    return image, label\n",
    "\n",
    "import tensorflow_datasets as tfds\n",
    "\n",
    "# Corrected file path with escaped backslashes and a missing comma\n",
    "ds1, ds2, ds3 = tfds.load('patch_camelyon',\n",
    "                         split=['train[:10%]', 'test[:2.5%]', 'validation[:2.5%]'],\n",
    "                         data_dir=r'C:\\Job_og_eksamensbevis\\Github\\projekter\\Projekt_1_Computer_Vision',\n",
    "                         download=False,\n",
    "                         shuffle_files=True)\n",
    "\n",
    "train_dataset       = ds1.map(convert_sample).batch(32)\n",
    "validation_dataset  = ds3.map(convert_sample).batch(32)\n",
    "test_dataset        = ds2.map(convert_sample).batch(32)\n",
    "\n",
    "train_dataset_cnn       = ds1.map(map_func).batch(32)\n",
    "validation_dataset_cnn  = ds3.map(map_func).batch(32)\n",
    "test_dataset_cnn        = ds2.map(map_func).batch(32)\n",
    "\n",
    "from tensorflow.keras.callbacks import TensorBoard, EarlyStopping\n",
    "from tensorflow.keras.layers import Input, Conv2D, MaxPooling2D, Flatten, Dense, Reshape, UpSampling2D, Dropout, Conv2DTranspose "
   ]
  },
  {
   "cell_type": "code",
   "execution_count": 3,
   "metadata": {},
   "outputs": [
    {
     "name": "stdout",
     "output_type": "stream",
     "text": [
      "WARNING:tensorflow:From c:\\Users\\bruno\\anaconda3\\envs\\ENV_NAME\\lib\\site-packages\\keras\\src\\backend.py:873: The name tf.get_default_graph is deprecated. Please use tf.compat.v1.get_default_graph instead.\n",
      "\n"
     ]
    },
    {
     "name": "stderr",
     "output_type": "stream",
     "text": [
      "WARNING:tensorflow:From c:\\Users\\bruno\\anaconda3\\envs\\ENV_NAME\\lib\\site-packages\\keras\\src\\backend.py:873: The name tf.get_default_graph is deprecated. Please use tf.compat.v1.get_default_graph instead.\n",
      "\n"
     ]
    },
    {
     "name": "stdout",
     "output_type": "stream",
     "text": [
      "WARNING:tensorflow:From c:\\Users\\bruno\\anaconda3\\envs\\ENV_NAME\\lib\\site-packages\\keras\\src\\layers\\pooling\\max_pooling2d.py:161: The name tf.nn.max_pool is deprecated. Please use tf.nn.max_pool2d instead.\n",
      "\n"
     ]
    },
    {
     "name": "stderr",
     "output_type": "stream",
     "text": [
      "WARNING:tensorflow:From c:\\Users\\bruno\\anaconda3\\envs\\ENV_NAME\\lib\\site-packages\\keras\\src\\layers\\pooling\\max_pooling2d.py:161: The name tf.nn.max_pool is deprecated. Please use tf.nn.max_pool2d instead.\n",
      "\n"
     ]
    },
    {
     "name": "stdout",
     "output_type": "stream",
     "text": [
      "WARNING:tensorflow:From c:\\Users\\bruno\\anaconda3\\envs\\ENV_NAME\\lib\\site-packages\\keras\\src\\optimizers\\__init__.py:309: The name tf.train.Optimizer is deprecated. Please use tf.compat.v1.train.Optimizer instead.\n",
      "\n"
     ]
    },
    {
     "name": "stderr",
     "output_type": "stream",
     "text": [
      "WARNING:tensorflow:From c:\\Users\\bruno\\anaconda3\\envs\\ENV_NAME\\lib\\site-packages\\keras\\src\\optimizers\\__init__.py:309: The name tf.train.Optimizer is deprecated. Please use tf.compat.v1.train.Optimizer instead.\n",
      "\n"
     ]
    },
    {
     "name": "stdout",
     "output_type": "stream",
     "text": [
      "Epoch 1/5\n",
      "WARNING:tensorflow:From c:\\Users\\bruno\\anaconda3\\envs\\ENV_NAME\\lib\\site-packages\\keras\\src\\utils\\tf_utils.py:492: The name tf.ragged.RaggedTensorValue is deprecated. Please use tf.compat.v1.ragged.RaggedTensorValue instead.\n",
      "\n"
     ]
    },
    {
     "name": "stderr",
     "output_type": "stream",
     "text": [
      "WARNING:tensorflow:From c:\\Users\\bruno\\anaconda3\\envs\\ENV_NAME\\lib\\site-packages\\keras\\src\\utils\\tf_utils.py:492: The name tf.ragged.RaggedTensorValue is deprecated. Please use tf.compat.v1.ragged.RaggedTensorValue instead.\n",
      "\n"
     ]
    },
    {
     "name": "stdout",
     "output_type": "stream",
     "text": [
      "820/820 [==============================] - 308s 373ms/step - loss: 0.0352 - val_loss: 0.0340\n",
      "Epoch 2/5\n",
      "820/820 [==============================] - 303s 369ms/step - loss: 0.0293 - val_loss: 0.0306\n",
      "Epoch 3/5\n",
      "820/820 [==============================] - 305s 372ms/step - loss: 0.0274 - val_loss: 0.0296\n",
      "Epoch 4/5\n",
      "820/820 [==============================] - 308s 375ms/step - loss: 0.0269 - val_loss: 0.0293\n",
      "Epoch 5/5\n",
      "820/820 [==============================] - 307s 374ms/step - loss: 0.0266 - val_loss: 0.0294\n"
     ]
    },
    {
     "data": {
      "text/plain": [
       "<keras.src.callbacks.History at 0x27679895960>"
      ]
     },
     "execution_count": 3,
     "metadata": {},
     "output_type": "execute_result"
    }
   ],
   "source": [
    "\n",
    "import tensorflow.compat.v1 as tf\n",
    "from tensorflow.keras import layers, Model\n",
    "from tensorflow.keras.losses import MeanSquaredError\n",
    "\n",
    "# Define the encoder part\n",
    "class Encoder(tf.keras.layers.Layer): #initialiserer encoderen, definerer lagene og præciserer hvordan vores model skal konstrueres\n",
    "    def __init__(self, latent_dim): \n",
    "        super(Encoder, self).__init__()\n",
    "        self.conv1 = layers.Conv2D(32, (3, 3), activation='relu', padding='same')\n",
    "        self.maxpool1 = layers.MaxPooling2D((2, 2), padding='same')\n",
    "        self.conv2 = layers.Conv2D(64, (3, 3), activation='relu', padding='same')\n",
    "        self.maxpool2 = layers.MaxPooling2D((2, 2), padding='same')\n",
    "        self.flatten = layers.Flatten()\n",
    "        self.dense_mean = layers.Dense(latent_dim)\n",
    "        self.dense_log_var = layers.Dense(latent_dim)\n",
    "\n",
    "    def call(self, x): #den faktiske model der forward pass'er data og transformerer det på baggrund af hvad der er defineret i def _init_\n",
    "        x = self.conv1(x)\n",
    "        x = self.maxpool1(x)\n",
    "        x = self.conv2(x)\n",
    "        x = self.maxpool2(x)\n",
    "        x = self.flatten(x)\n",
    "        mean = self.dense_mean(x)\n",
    "        log_var = self.dense_log_var(x)\n",
    "        return mean, log_var\n",
    "\n",
    "# Define the decoder part\n",
    "class Decoder(tf.keras.layers.Layer):\n",
    "    def __init__(self, latent_dim, original_shape):\n",
    "        super(Decoder, self).__init__()\n",
    "        self.dense = layers.Dense(units=original_shape[0] * original_shape[1] * original_shape[2], activation=tf.nn.relu)\n",
    "        self.reshape = layers.Reshape(target_shape=(original_shape[0], original_shape[1], original_shape[2]))\n",
    "        self.conv2dtranspose1 = layers.Conv2DTranspose(64, (3, 3), activation='relu', padding='same')\n",
    "        self.conv2dtranspose2 = layers.Conv2DTranspose(32, (3, 3), activation='relu', padding='same')\n",
    "        self.conv2dtranspose3 = layers.Conv2DTranspose(3, (3, 3), activation='sigmoid', padding='same')\n",
    "\n",
    "    def call(self, z):\n",
    "        z = self.dense(z)\n",
    "        z = self.reshape(z)\n",
    "        z = self.conv2dtranspose1(z)\n",
    "        z = self.conv2dtranspose2(z)\n",
    "        reconstructed = self.conv2dtranspose3(z)\n",
    "        return reconstructed\n",
    "\n",
    "# Define the Variational Autoencoder as a whole\n",
    "class VAE(Model):\n",
    "    def __init__(self, latent_dim, original_shape):\n",
    "        super(VAE, self).__init__()\n",
    "        self.encoder = Encoder(latent_dim)\n",
    "        self.decoder = Decoder(latent_dim, original_shape)\n",
    "\n",
    "    def sample(self, mean, log_var):\n",
    "        batch = tf.shape(mean)[0]\n",
    "        dim = tf.shape(mean)[1]\n",
    "        epsilon = tf.keras.backend.random_normal(shape=(batch, dim))\n",
    "        return mean + tf.exp(0.5 * log_var) * epsilon\n",
    "\n",
    "    def call(self, x):\n",
    "        mean, log_var = self.encoder(x)\n",
    "        z = self.sample(mean, log_var)\n",
    "        reconstructed = self.decoder(z)\n",
    "        return reconstructed\n",
    "\n",
    "# Set the latent dimension and original image shape\n",
    "latent_dim = 128\n",
    "original_shape = (96, 96, 3)  # Assuming PCAM images are of shape 96x96x3\n",
    "\n",
    "# Instantiate the VAE\n",
    "vae = VAE(latent_dim, original_shape)\n",
    "\n",
    "# Compile the model\n",
    "vae.compile(optimizer='adam', loss=MeanSquaredError())\n",
    "\n",
    "# Freeze the layers in the encoder\n",
    "vae.encoder.conv1.trainable = False\n",
    "vae.encoder.maxpool1.trainable = False\n",
    "vae.encoder.conv2.trainable = False\n",
    "vae.encoder.maxpool2.trainable = False\n",
    "vae.encoder.flatten.trainable = False\n",
    "vae.encoder.dense_mean.trainable = False\n",
    "vae.encoder.dense_log_var.trainable = False\n",
    "\n",
    "\n",
    "vae.fit(\n",
    "        train_dataset,\n",
    "        epochs=5,  # You can adjust the number of epochs\n",
    "        validation_data=validation_dataset\n",
    ")\n"
   ]
  },
  {
   "cell_type": "code",
   "execution_count": 6,
   "metadata": {},
   "outputs": [],
   "source": [
    "\n",
    "def build_cnn(vae, latent_dim):\n",
    "    # Create a new input layer that matches the original input\n",
    "    cnn_input = layers.Input(shape=original_shape)\n",
    "\n",
    "    # Get the mean vector from the encoder\n",
    "    mean, _ = vae.encoder(cnn_input)\n",
    "\n",
    "    # Build CNN layers for classification\n",
    "    x = Dense(128, activation='relu')(mean)  # Processing the mean vector\n",
    "    x = Dense(64, activation=\"relu\")(x)\n",
    "    cnn_output = Dense(2, activation=\"softmax\")(x)  # Output layer for 2 classes\n",
    "\n",
    "    # Create model\n",
    "    cnn_model = Model(inputs=cnn_input, outputs=cnn_output)\n",
    "    \n",
    "    return cnn_model\n"
   ]
  },
  {
   "cell_type": "code",
   "execution_count": 1,
   "metadata": {},
   "outputs": [
    {
     "name": "stdout",
     "output_type": "stream",
     "text": [
      "WARNING:tensorflow:From c:\\Users\\jeppe\\OneDrive\\Dokumenter\\Privat\\SDU\\DataScience\\anaconda_spyder\\envs\\ENV_NAME\\lib\\site-packages\\keras\\src\\losses.py:2976: The name tf.losses.sparse_softmax_cross_entropy is deprecated. Please use tf.compat.v1.losses.sparse_softmax_cross_entropy instead.\n",
      "\n"
     ]
    }
   ],
   "source": [
    "from tensorflow.keras import layers, Model\n",
    "from tensorflow.keras.layers import Conv2D, MaxPooling2D, Flatten, Dense\n",
    "from tensorflow.keras.regularizers import l2\n",
    "\n",
    "def build_cnn(vae, original_shape, l2_lambda=0.01):\n",
    "    # Create a new input layer that matches the original input\n",
    "    cnn_input = layers.Input(shape=original_shape)\n",
    "\n",
    "    # Print the shape of cnn_input\n",
    "    print(\"Shape of cnn_input:\", cnn_input.shape)\n",
    "\n",
    "    # Get the mean vector from the encoder\n",
    "    mean, _ = vae.encoder(cnn_input)\n",
    "\n",
    "    # Initialize 'x' with the input tensor\n",
    "    x = cnn_input\n",
    "\n",
    "    # Build CNN layers for classification\n",
    "    x = Conv2D(32, kernel_size=(3, 3), activation=\"relu\")(x)\n",
    "    x = MaxPooling2D(pool_size=(2, 2))(x)\n",
    "    x = Conv2D(64, kernel_size=(3, 3), activation=\"relu\")(x)\n",
    "    x = MaxPooling2D(pool_size=(2, 2))(x)\n",
    "    x = Conv2D(128, (3, 3), activation='relu')(x)\n",
    "\n",
    "    # Flatten the output of the CNN before feeding into dense layers\n",
    "    x = Flatten()(x)\n",
    "\n",
    "    # Combine with mean vector - if necessary, reshape or process 'mean' to match dimensions\n",
    "    x = layers.concatenate([x, mean])\n",
    "\n",
    "    # Continue with dense layers with L2 regularization\n",
    "    x = Dense(128, activation='relu', kernel_regularizer=l2(l2_lambda))(x)\n",
    "    x = Dense(64, activation=\"relu\", kernel_regularizer=l2(l2_lambda))(x)\n",
    "    cnn_output = Dense(2, activation=\"softmax\", kernel_regularizer=l2(l2_lambda))(x)  # Output layer for 2 classes\n",
    "\n",
    "    # Create model\n",
    "    cnn_model = Model(inputs=cnn_input, outputs=cnn_output)\n",
    "    \n",
    "    print(\"Shape of cnn_input:\", cnn_input.shape)\n",
    "    \n",
    "    return cnn_model\n"
   ]
  },
  {
   "cell_type": "code",
   "execution_count": 2,
   "metadata": {},
   "outputs": [
    {
     "ename": "NameError",
     "evalue": "name 'vae' is not defined",
     "output_type": "error",
     "traceback": [
      "\u001b[1;31m---------------------------------------------------------------------------\u001b[0m",
      "\u001b[1;31mNameError\u001b[0m                                 Traceback (most recent call last)",
      "Cell \u001b[1;32mIn[2], line 5\u001b[0m\n\u001b[0;32m      3\u001b[0m latent_dim \u001b[38;5;241m=\u001b[39m \u001b[38;5;241m128\u001b[39m  \u001b[38;5;66;03m# or whatever your latent dimension is\u001b[39;00m\n\u001b[0;32m      4\u001b[0m original_shape \u001b[38;5;241m=\u001b[39m (\u001b[38;5;241m96\u001b[39m, \u001b[38;5;241m96\u001b[39m, \u001b[38;5;241m3\u001b[39m)  \u001b[38;5;66;03m# Assuming this is the shape of your input data\u001b[39;00m\n\u001b[1;32m----> 5\u001b[0m cnn_model \u001b[38;5;241m=\u001b[39m build_cnn(\u001b[43mvae\u001b[49m, original_shape)\n",
      "\u001b[1;31mNameError\u001b[0m: name 'vae' is not defined"
     ]
    }
   ],
   "source": [
    "#-------> ved ikke om den her del er nødvendig, tror Original shape var den her del skal være defineret for at resten virker\n",
    "\n",
    "latent_dim = 128  # or whatever your latent dimension is\n",
    "original_shape = (96, 96, 3)  # Assuming this is the shape of your input data\n",
    "cnn_model = build_cnn(vae, original_shape)\n",
    "\n"
   ]
  },
  {
   "cell_type": "code",
   "execution_count": 3,
   "metadata": {},
   "outputs": [
    {
     "ename": "NameError",
     "evalue": "name 'vae' is not defined",
     "output_type": "error",
     "traceback": [
      "\u001b[1;31m---------------------------------------------------------------------------\u001b[0m",
      "\u001b[1;31mNameError\u001b[0m                                 Traceback (most recent call last)",
      "Cell \u001b[1;32mIn[3], line 3\u001b[0m\n\u001b[0;32m      1\u001b[0m \u001b[38;5;66;03m#------> Igen her er latent dim ændret til original shape. Original shape = 96,96,3\u001b[39;00m\n\u001b[0;32m      2\u001b[0m \u001b[38;5;66;03m# Build and compile the CNN model\u001b[39;00m\n\u001b[1;32m----> 3\u001b[0m cnn_model \u001b[38;5;241m=\u001b[39m build_cnn(\u001b[43mvae\u001b[49m, original_shape)\n\u001b[0;32m      4\u001b[0m cnn_model\u001b[38;5;241m.\u001b[39mcompile(optimizer\u001b[38;5;241m=\u001b[39m\u001b[38;5;124m'\u001b[39m\u001b[38;5;124madam\u001b[39m\u001b[38;5;124m'\u001b[39m, loss\u001b[38;5;241m=\u001b[39m\u001b[38;5;124m'\u001b[39m\u001b[38;5;124mcategorical_crossentropy\u001b[39m\u001b[38;5;124m'\u001b[39m, metrics\u001b[38;5;241m=\u001b[39m[\u001b[38;5;124m'\u001b[39m\u001b[38;5;124maccuracy\u001b[39m\u001b[38;5;124m'\u001b[39m])\n\u001b[0;32m      6\u001b[0m \u001b[38;5;66;03m# Training the CNN model\u001b[39;00m\n",
      "\u001b[1;31mNameError\u001b[0m: name 'vae' is not defined"
     ]
    }
   ],
   "source": [
    "#------> Igen her er latent dim ændret til original shape. Original shape = 96,96,3\n",
    "# Build and compile the CNN model\n",
    "cnn_model = build_cnn(vae, original_shape)\n",
    "cnn_model.compile(optimizer='adam', loss='categorical_crossentropy', metrics=['accuracy'])\n",
    "\n",
    "# Training the CNN model\n",
    "history = cnn_model.fit(\n",
    "    train_dataset_cnn,  # Your training dataset\n",
    "    epochs=20,          # Adjust the number of epochs as needed\n",
    "    validation_data=validation_dataset_cnn  # Your validation dataset\n",
    ")"
   ]
  },
  {
   "cell_type": "code",
   "execution_count": 9,
   "metadata": {},
   "outputs": [
    {
     "name": "stdout",
     "output_type": "stream",
     "text": [
      "Model: \"vae\"\n",
      "_________________________________________________________________\n",
      " Layer (type)                Output Shape              Param #   \n",
      "=================================================================\n",
      " encoder (Encoder)           ((None, 128),             9456832   \n",
      "                              (None, 128))                       \n",
      "                                                                 \n",
      " decoder (Decoder)           multiple                  3587715   \n",
      "                                                                 \n",
      "=================================================================\n",
      "Total params: 13044547 (49.76 MB)\n",
      "Trainable params: 3587715 (13.69 MB)\n",
      "Non-trainable params: 9456832 (36.07 MB)\n",
      "_________________________________________________________________\n",
      "None\n",
      "Shape of the data being fed into the model: (32, 96, 96, 3)\n"
     ]
    }
   ],
   "source": [
    "# If you have the model defined as 'vae', you can print the model summary\n",
    "print(vae.summary())\n",
    "\n",
    "# If you have a dataset or a data generator, you can check the shape of the data\n",
    "# Assuming `train_dataset_cnn` is your training dataset\n",
    "for data, _ in train_dataset_cnn.take(1):\n",
    "    print(\"Shape of the data being fed into the model:\", data.shape)\n"
   ]
  },
  {
   "cell_type": "code",
   "execution_count": 29,
   "metadata": {},
   "outputs": [
    {
     "name": "stdout",
     "output_type": "stream",
     "text": [
      "26/26 [==============================] - 1s 39ms/step - loss: 0.7715 - accuracy: 0.6801\n",
      "Test accuracy: 0.6800976991653442, Test loss: 0.7715429663658142\n"
     ]
    }
   ],
   "source": [
    "test_loss, test_accuracy = cnn_model.evaluate(test_dataset_cnn)\n",
    "print(f\"Test accuracy: {test_accuracy}, Test loss: {test_loss}\")\n"
   ]
  },
  {
   "cell_type": "code",
   "execution_count": 9,
   "metadata": {},
   "outputs": [
    {
     "data": {
      "image/png": "[encoded data removed]",
      "text/plain": [
       "<Figure size 1200x400 with 2 Axes>"
      ]
     },
     "metadata": {},
     "output_type": "display_data"
    }
   ],
   "source": [
    "import matplotlib.pyplot as plt\n",
    "\n",
    "plt.figure(figsize=(12, 4))\n",
    "\n",
    "# Plot training & validation accuracy\n",
    "plt.subplot(1, 2, 1)\n",
    "plt.plot(history.history['accuracy'], label='Train')\n",
    "plt.plot(history.history['val_accuracy'], label='Validation')\n",
    "plt.title('Model Accuracy')\n",
    "plt.ylabel('Accuracy')\n",
    "plt.xlabel('Epoch')\n",
    "plt.legend()\n",
    "\n",
    "# Plot training & validation loss\n",
    "plt.subplot(1, 2, 2)\n",
    "plt.plot(history.history['loss'], label='Train')\n",
    "plt.plot(history.history['val_loss'], label='Validation')\n",
    "plt.title('Model Loss')\n",
    "plt.ylabel('Loss')\n",
    "plt.xlabel('Epoch')\n",
    "plt.legend()\n",
    "\n",
    "plt.show()"
   ]
  }
 ],
 "metadata": {
  "kernelspec": {
   "display_name": "ENV_NAME",
   "language": "python",
   "name": "python3"
  },
  "language_info": {
   "codemirror_mode": {
    "name": "ipython",
    "version": 3
   },
   "file_extension": ".py",
   "mimetype": "text/x-python",
   "name": "python",
   "nbconvert_exporter": "python",
   "pygments_lexer": "ipython3",
   "version": "3.10.13"
  }
 },
 "nbformat": 4,
 "nbformat_minor": 2
}
